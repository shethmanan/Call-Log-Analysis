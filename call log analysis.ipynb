{
 "cells": [
  {
   "cell_type": "code",
   "execution_count": 20,
   "metadata": {},
   "outputs": [
    {
     "name": "stdout",
     "output_type": "stream",
     "text": [
      "<class 'pandas.core.frame.DataFrame'>\n"
     ]
    }
   ],
   "source": [
    "# importing data and necessary lib\n",
    "%matplotlib inline\n",
    "import numpy as np\n",
    "import pandas as pd\n",
    "import matplotlib.pyplot as plt\n",
    "import datetime\n",
    "\n",
    "df = pd.read_csv(\"Example - Call Log.csv\")\n",
    "second_person = \"User1\"     #other person\n",
    "first_person = \"Manan\"    #your name\n",
    "print(type(df))\n",
    "\n"
   ]
  },
  {
   "cell_type": "code",
   "execution_count": 21,
   "metadata": {},
   "outputs": [
    {
     "name": "stdout",
     "output_type": "stream",
     "text": [
      "Name         162\n",
      "Address      162\n",
      "Direction    162\n",
      "Status       162\n",
      "Duration     162\n",
      "Date         162\n",
      "dtype: int64\n"
     ]
    },
    {
     "data": {
      "text/html": [
       "<div>\n",
       "<style scoped>\n",
       "    .dataframe tbody tr th:only-of-type {\n",
       "        vertical-align: middle;\n",
       "    }\n",
       "\n",
       "    .dataframe tbody tr th {\n",
       "        vertical-align: top;\n",
       "    }\n",
       "\n",
       "    .dataframe thead th {\n",
       "        text-align: right;\n",
       "    }\n",
       "</style>\n",
       "<table border=\"1\" class=\"dataframe\">\n",
       "  <thead>\n",
       "    <tr style=\"text-align: right;\">\n",
       "      <th></th>\n",
       "      <th>Name</th>\n",
       "      <th>Address</th>\n",
       "      <th>Direction</th>\n",
       "      <th>Status</th>\n",
       "      <th>Duration</th>\n",
       "      <th>Date</th>\n",
       "    </tr>\n",
       "  </thead>\n",
       "  <tbody>\n",
       "    <tr>\n",
       "      <th>0</th>\n",
       "      <td>User1</td>\n",
       "      <td>123</td>\n",
       "      <td>Incoming</td>\n",
       "      <td>Answered</td>\n",
       "      <td>00:29</td>\n",
       "      <td>13-06-2019 (05:33:37)</td>\n",
       "    </tr>\n",
       "  </tbody>\n",
       "</table>\n",
       "</div>"
      ],
      "text/plain": [
       "    Name  Address Direction    Status Duration                   Date\n",
       "0  User1      123  Incoming  Answered    00:29  13-06-2019 (05:33:37)"
      ]
     },
     "execution_count": 21,
     "metadata": {},
     "output_type": "execute_result"
    }
   ],
   "source": [
    "# cleaning null values\n",
    "\n",
    "# print(df.count())\n",
    "df.dropna(inplace = True)\n",
    "print(df.count())\n",
    "\n",
    "df.head(1)"
   ]
  },
  {
   "cell_type": "code",
   "execution_count": 22,
   "metadata": {},
   "outputs": [],
   "source": [
    "def toNumber(t):\n",
    "    mins,sec = t.split(':')\n",
    "    duration_sec = int(mins)*60 + int(sec)\n",
    "    return duration_sec\n",
    "    \n",
    "def getDateTimeObject(date_time_string):\n",
    "    date, time = date_time_string.split(' ')\n",
    "    time = time.replace('(',' ')\n",
    "    time = time.replace(')','')\n",
    "    date_time_object = datetime.datetime.strptime(date+time,'%d-%m-%Y %H:%M:%S')\n",
    "    return date_time_object\n",
    "\n",
    "def dateFilter(record_date=\"\",from_date=\"\",to_date=\"\"):\n",
    "    if(from_date==\"\"):\n",
    "        from_date = datetime.datetime.strptime('01-01-1900 01:01:01','%d-%m-%Y %H:%M:%S')\n",
    "    if(to_date == \"\"):\n",
    "        to_date = datetime.datetime.now()\n",
    "        \n",
    "    if(from_date <= record_date <= to_date):\n",
    "        return True\n",
    "        \n",
    "    else:\n",
    "        return False\n"
   ]
  },
  {
   "cell_type": "code",
   "execution_count": 23,
   "metadata": {},
   "outputs": [
    {
     "data": {
      "text/html": [
       "<div>\n",
       "<style scoped>\n",
       "    .dataframe tbody tr th:only-of-type {\n",
       "        vertical-align: middle;\n",
       "    }\n",
       "\n",
       "    .dataframe tbody tr th {\n",
       "        vertical-align: top;\n",
       "    }\n",
       "\n",
       "    .dataframe thead th {\n",
       "        text-align: right;\n",
       "    }\n",
       "</style>\n",
       "<table border=\"1\" class=\"dataframe\">\n",
       "  <thead>\n",
       "    <tr style=\"text-align: right;\">\n",
       "      <th></th>\n",
       "      <th>Name</th>\n",
       "      <th>Address</th>\n",
       "      <th>Direction</th>\n",
       "      <th>Status</th>\n",
       "      <th>Duration</th>\n",
       "      <th>Date</th>\n",
       "      <th>Duration_sec</th>\n",
       "      <th>DateO</th>\n",
       "    </tr>\n",
       "  </thead>\n",
       "  <tbody>\n",
       "    <tr>\n",
       "      <th>0</th>\n",
       "      <td>User1</td>\n",
       "      <td>123</td>\n",
       "      <td>Incoming</td>\n",
       "      <td>Answered</td>\n",
       "      <td>00:29</td>\n",
       "      <td>13-06-2019 (05:33:37)</td>\n",
       "      <td>29</td>\n",
       "      <td>2019-06-13 05:33:37</td>\n",
       "    </tr>\n",
       "    <tr>\n",
       "      <th>1</th>\n",
       "      <td>User1</td>\n",
       "      <td>123</td>\n",
       "      <td>Incoming</td>\n",
       "      <td>Missed</td>\n",
       "      <td>00:00</td>\n",
       "      <td>14-06-2019 (08:59:46)</td>\n",
       "      <td>0</td>\n",
       "      <td>2019-06-14 08:59:46</td>\n",
       "    </tr>\n",
       "    <tr>\n",
       "      <th>2</th>\n",
       "      <td>User1</td>\n",
       "      <td>123</td>\n",
       "      <td>Incoming</td>\n",
       "      <td>Answered</td>\n",
       "      <td>02:35</td>\n",
       "      <td>24-06-2019 (20:32:06)</td>\n",
       "      <td>155</td>\n",
       "      <td>2019-06-24 20:32:06</td>\n",
       "    </tr>\n",
       "    <tr>\n",
       "      <th>3</th>\n",
       "      <td>User1</td>\n",
       "      <td>123</td>\n",
       "      <td>Incoming</td>\n",
       "      <td>Answered</td>\n",
       "      <td>01:29</td>\n",
       "      <td>25-06-2019 (07:36:56)</td>\n",
       "      <td>89</td>\n",
       "      <td>2019-06-25 07:36:56</td>\n",
       "    </tr>\n",
       "    <tr>\n",
       "      <th>4</th>\n",
       "      <td>User1</td>\n",
       "      <td>123</td>\n",
       "      <td>Incoming</td>\n",
       "      <td>Missed</td>\n",
       "      <td>00:00</td>\n",
       "      <td>02-07-2019 (11:55:51)</td>\n",
       "      <td>0</td>\n",
       "      <td>2019-07-02 11:55:51</td>\n",
       "    </tr>\n",
       "  </tbody>\n",
       "</table>\n",
       "</div>"
      ],
      "text/plain": [
       "    Name  Address Direction    Status Duration                   Date  \\\n",
       "0  User1      123  Incoming  Answered    00:29  13-06-2019 (05:33:37)   \n",
       "1  User1      123  Incoming    Missed    00:00  14-06-2019 (08:59:46)   \n",
       "2  User1      123  Incoming  Answered    02:35  24-06-2019 (20:32:06)   \n",
       "3  User1      123  Incoming  Answered    01:29  25-06-2019 (07:36:56)   \n",
       "4  User1      123  Incoming    Missed    00:00  02-07-2019 (11:55:51)   \n",
       "\n",
       "   Duration_sec               DateO  \n",
       "0            29 2019-06-13 05:33:37  \n",
       "1             0 2019-06-14 08:59:46  \n",
       "2           155 2019-06-24 20:32:06  \n",
       "3            89 2019-06-25 07:36:56  \n",
       "4             0 2019-07-02 11:55:51  "
      ]
     },
     "execution_count": 23,
     "metadata": {},
     "output_type": "execute_result"
    }
   ],
   "source": [
    "#adding new derieved columns\n",
    "\n",
    "\n",
    "# call_duration column\n",
    "call_duration = [toNumber(i) for i in df['Duration'].tolist()]\n",
    "df['Duration_sec'] = pd.Series(call_duration,index=df.index)\n",
    "# df.insert(3,'Dur',call_duration,True)\n",
    "\n",
    "\n",
    "# date time object column\n",
    "df['DateO']  = [getDateTimeObject(i) for i in df['Date'].tolist()]\n",
    "\n",
    "df.head()\n",
    "# df = df.drop('Dur',axis=1)"
   ]
  },
  {
   "cell_type": "code",
   "execution_count": 24,
   "metadata": {},
   "outputs": [],
   "source": [
    "#function to plot pie chart for 2 options\n",
    "# analysis_type = 1 | \"call_analysis\"         ->> call analysis\n",
    "# analysis_type = 2 | \"missed_call_analysis\"  ->> missed call analysis\n",
    "def plotPie(analysis_type=\"1\",label=[\"label1\",\"label2\"],title=\"Title\",legend=\"\",from_date=\"\",to_date=\"\"):\n",
    "    person1 = 0\n",
    "    person2 = 0\n",
    "    if(analysis_type == \"1\" or analysis_type==\"call_analysis\"):\n",
    "        option1 = \"Incoming\"\n",
    "        option2 = \"Outgoing\"\n",
    "        column_index = 3\n",
    "    else:\n",
    "        option1 = \"Missed\"\n",
    "        option2 = \"Unanswered\"\n",
    "        column_index = 4\n",
    "\n",
    "\n",
    "    for i in df.itertuples():\n",
    "        temp = i[column_index]\n",
    "        record_date = i[8]\n",
    "        if(temp  == option1 and dateFilter(record_date,from_date,to_date)):\n",
    "            person1 += 1\n",
    "        elif(temp  == option2 and dateFilter(record_date)):\n",
    "            person2 += 1\n",
    "    plot_list = [person1,person2]\n",
    "\n",
    "    _,_,autotexts = plt.pie(plot_list,labels=label,explode=[0.1,0],autopct='%1.1f%%')\n",
    "    for autotext in autotexts:\n",
    "        autotext.set_color('white')\n",
    "    plt.title(title)\n",
    "    if(legend != \"\"):\n",
    "        plt.legend(legend, loc=4)\n",
    "    return plt"
   ]
  },
  {
   "cell_type": "code",
   "execution_count": 25,
   "metadata": {
    "scrolled": false
   },
   "outputs": [
    {
     "data": {
      "image/png": "[encoded data removed]",
      "text/plain": [
       "<Figure size 432x288 with 1 Axes>"
      ]
     },
     "metadata": {},
     "output_type": "display_data"
    },
    {
     "data": {
      "image/png": "[encoded data removed]",
      "text/plain": [
       "<Figure size 432x288 with 1 Axes>"
      ]
     },
     "metadata": {},
     "output_type": "display_data"
    },
    {
     "data": {
      "image/png": "[encoded data removed]",
      "text/plain": [
       "<Figure size 432x288 with 1 Axes>"
      ]
     },
     "metadata": {},
     "output_type": "display_data"
    }
   ],
   "source": [
    "label = [second_person,first_person]\n",
    "legend = [second_person+\" to \"+first_person,first_person+\" to \"+second_person]\n",
    "\n",
    "\n",
    "title = \"Call Direction\"\n",
    "plotPie(\"1\",label,title,legend).show()\n",
    "\n",
    "\n",
    "title = \"Call Direction of last week\"\n",
    "plotPie(\"1\",label,title,legend,getDateTimeObject(\"27-10-2019 (00:00:00)\"),getDateTimeObject(\"03-11-2019 (00:00:00)\")).show()\n",
    "\n",
    "\n",
    "title = \"Missed Calls\"\n",
    "plotPie(\"2\",label,title,legend).show()"
   ]
  },
  {
   "cell_type": "code",
   "execution_count": 26,
   "metadata": {},
   "outputs": [],
   "source": [
    "# incoming_calls = 0\n",
    "# outgoing_calls = 0\n",
    "# for i in df.itertuples(): \n",
    "# #     print(i[1])\n",
    "#     direction = i[3] \n",
    "#     if(direction == \"Incoming\"):\n",
    "#         incoming_calls+=1\n",
    "#     elif(direction ==\"Outgoing\"):\n",
    "#         outgoing_calls+=1\n",
    "# print(\"incoming_calls: \",incoming_calls,\"outgoing_calls: \",outgoing_calls)\n",
    "\n",
    "# calling_list = [incoming_calls,outgoing_calls]\n",
    "# label = [second_person,first_person]\n",
    "# _,_,autotexts = plt.pie(calling_list,labels=label,explode=[0.1,0],autopct='%1.1f%%')\n",
    "# for autotext in autotexts:\n",
    "#     autotext.set_color('white')\n",
    "# plt.title(\"Call Direction\")\n",
    "# plt.show()"
   ]
  },
  {
   "cell_type": "code",
   "execution_count": 27,
   "metadata": {},
   "outputs": [
    {
     "data": {
      "image/png": "[encoded data removed]",
      "text/plain": [
       "<Figure size 432x288 with 1 Axes>"
      ]
     },
     "metadata": {
      "needs_background": "light"
     },
     "output_type": "display_data"
    }
   ],
   "source": [
    "plt.plot(df['Date'],df['Duration_sec'])\n",
    "plt.xlabel('Days (september to November)')\n",
    "plt.ylabel('Duration (sec)')\n",
    "plt.title('Call duration analysis over time')\n",
    "plt.show()"
   ]
  },
  {
   "cell_type": "code",
   "execution_count": 28,
   "metadata": {},
   "outputs": [
    {
     "name": "stdout",
     "output_type": "stream",
     "text": [
      "*******************************Call Analysis between Manan and User1********************************\n",
      "Max call duration: 333 secs on 2019-10-28\n",
      "Calls from Manan: 24\n",
      "Calls from User1: 138\n",
      "Average call duration: 36.41 sec(s)\n"
     ]
    }
   ],
   "source": [
    "#Some quick facts\n",
    "max_call_duration = 0\n",
    "max_call_duration_date = datetime.datetime.strptime('01-01-1900 01:01:01','%d-%m-%Y %H:%M:%S')\n",
    "avg_call_duration = 0\n",
    "total_calls = 0\n",
    "total_calls_from_person1 = 0\n",
    "total_calls_from_person2 = 0\n",
    "call_from_person1_duration = 0\n",
    "call_from_person2_duration = 0\n",
    "\n",
    "\n",
    "\n",
    "for i in df.itertuples():\n",
    "    temp_call_duration = i[7]\n",
    "    temp_call_duration_date = i[8]\n",
    "    direction = i[3]\n",
    "    \n",
    "    if(temp_call_duration > -1):\n",
    "        total_calls += 1\n",
    "        if(direction == \"Incoming\"):\n",
    "            total_calls_from_person2 += 1\n",
    "            call_from_person2_duration += temp_call_duration\n",
    "\n",
    "        else:\n",
    "            total_calls_from_person1 += 1\n",
    "            call_from_person1_duration += temp_call_duration\n",
    "        if(temp_call_duration >= max_call_duration):\n",
    "            max_call_duration = temp_call_duration\n",
    "            max_call_duration_date = temp_call_duration_date \n",
    "\n",
    "            \n",
    "avg_call_duration = (call_from_person1_duration + call_from_person2_duration) / total_calls\n",
    "\n",
    "\n",
    "print(\"{0:*^100}\".format(\"Call Analysis between \"+first_person+\" and \"+second_person))\n",
    "print(\"Max call duration: \"+str(max_call_duration)+\" secs on \"+str(max_call_duration_date.date()))\n",
    "print(\"Calls from \"+first_person+\": \"+str(total_calls_from_person1))\n",
    "print(\"Calls from \"+second_person+\": \"+str(total_calls_from_person2))\n",
    "print(\"Average call duration: {0:.2f} sec(s)\".format(avg_call_duration))\n"
   ]
  },
  {
   "cell_type": "code",
   "execution_count": null,
   "metadata": {},
   "outputs": [],
   "source": []
  }
 ],
 "metadata": {
  "kernelspec": {
   "display_name": "Python 3",
   "language": "python",
   "name": "python3"
  },
  "language_info": {
   "codemirror_mode": {
    "name": "ipython",
    "version": 3
   },
   "file_extension": ".py",
   "mimetype": "text/x-python",
   "name": "python",
   "nbconvert_exporter": "python",
   "pygments_lexer": "ipython3",
   "version": "3.7.3"
  }
 },
 "nbformat": 4,
 "nbformat_minor": 2
}
